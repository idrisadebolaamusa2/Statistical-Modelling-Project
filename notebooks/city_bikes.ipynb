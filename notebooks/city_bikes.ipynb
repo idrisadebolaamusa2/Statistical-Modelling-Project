{
 "cells": [
  {
   "cell_type": "markdown",
   "metadata": {
    "id": "63Zl2-jw5KNd"
   },
   "source": [
    "# CityBikes"
   ]
  },
  {
   "cell_type": "markdown",
   "metadata": {
    "id": "QCm4eQjf5KNk"
   },
   "source": [
    "Send a request to CityBikes for the city of your choice."
   ]
  },
  {
   "cell_type": "code",
   "execution_count": 21,
   "metadata": {
    "id": "7TtF3aXr5KNm",
    "tags": []
   },
   "outputs": [],
   "source": [
    "#Importing libraries\n",
    "import requests\n",
    "import json\n",
    "import pandas as pd"
   ]
  },
  {
   "cell_type": "code",
   "execution_count": 22,
   "metadata": {
    "id": "JYKx5WOtBIxQ",
    "tags": []
   },
   "outputs": [],
   "source": [
    "def getCity(city):\n",
    "  #url data\n",
    "  url = \"https://api.citybik.es/v2/networks/\"\n",
    "\n",
    "  response = requests.get(url).json()\n",
    "\n",
    "  city_dict = []\n",
    "  for city_bike in response['networks']:\n",
    "    cty = city_bike['location']['city']\n",
    "    # print(cty)\n",
    "\n",
    "    if cty.lower() == city.lower():\n",
    "      city_dict.append(city_bike)\n",
    "\n",
    "  return city_dict"
   ]
  },
  {
   "cell_type": "code",
   "execution_count": 23,
   "metadata": {
    "colab": {
     "base_uri": "https://localhost:8080/"
    },
    "id": "o3eEQiOeRaIQ",
    "outputId": "5da9b6ec-6b90-4be0-cb3e-bf3abd1bc7a0",
    "tags": []
   },
   "outputs": [
    {
     "name": "stdout",
     "output_type": "stream",
     "text": [
      "4\n",
      "[{'empty_slots': 12, 'extra': {'bike_uids': ['378192', '378167', '378114', '378008', '377819', '377681'], 'number': '34513', 'slots': 18, 'uid': '190427027'}, 'free_bikes': 6, 'id': '2f9537c07fae242099299062f016cf19', 'latitude': 43.306193, 'longitude': -3.008859, 'name': 'GALINDO', 'timestamp': '2023-12-11T05:34:48.412000Z'}, {'empty_slots': 9, 'extra': {'bike_uids': ['378270', '377985', '377905'], 'number': '34514', 'slots': 12, 'uid': '190429190'}, 'free_bikes': 3, 'id': 'f882b3bec7639b70741974372b804ad9', 'latitude': 43.309336, 'longitude': -3.008092, 'name': 'KASKO', 'timestamp': '2023-12-11T05:34:48.426000Z'}, {'empty_slots': 4, 'extra': {'bike_uids': ['378217', '378080', '378060', '377979', '377967', '377835', '377778', '377660'], 'number': '34515', 'slots': 12, 'uid': '190429852'}, 'free_bikes': 8, 'id': '132b239eb670ac4fe72d6d2ffde9c818', 'latitude': 43.307856, 'longitude': -3.000458, 'name': 'KUETO', 'timestamp': '2023-12-11T05:34:48.427000Z'}, {'empty_slots': 11, 'extra': {'bike_uids': ['378130', '378055', '378017', '377972'], 'number': '34516', 'slots': 16, 'uid': '190431514'}, 'free_bikes': 4, 'id': '03fcfbd1a504a89b67cbf359f9a085af', 'latitude': 43.310936, 'longitude': -3.000576, 'name': 'LABE GARAIA/ALTO HORNO', 'timestamp': '2023-12-11T05:34:48.428000Z'}]\n"
     ]
    }
   ],
   "source": [
    "def getStation(city):\n",
    "  station_dict = getCity(city)\n",
    "\n",
    "  # check if city exists\n",
    "  if not station_dict:\n",
    "    print(\"No bike company found for {}\".format(city))\n",
    "    return None\n",
    "\n",
    "  network_addr = station_dict[0]['href']\n",
    "  url = \"https://api.citybik.es/{}\".format(network_addr)\n",
    "  return requests.get(url).json()['network']['stations']\n",
    "\n",
    "city = \"sestao\"\n",
    "stations = getStation(city)\n",
    "\n",
    "print(len(stations))\n",
    "print(stations)"
   ]
  },
  {
   "cell_type": "markdown",
   "metadata": {
    "id": "HvXnfCSQ5KNo"
   },
   "source": [
    "Parse through the response to get the details you want for the bike stations in that city (latitude, longitude, number of bikes)."
   ]
  },
  {
   "cell_type": "code",
   "execution_count": 24,
   "metadata": {
    "id": "q4dM26ui5KNp",
    "tags": []
   },
   "outputs": [
    {
     "name": "stdout",
     "output_type": "stream",
     "text": [
      "[{'Station Name': 'GALINDO', 'Latitude': 43.306193, 'Longitude': -3.008859, 'No. of bikes': 18}, {'Station Name': 'KASKO', 'Latitude': 43.309336, 'Longitude': -3.008092, 'No. of bikes': 12}, {'Station Name': 'KUETO', 'Latitude': 43.307856, 'Longitude': -3.000458, 'No. of bikes': 12}, {'Station Name': 'LABE GARAIA/ALTO HORNO', 'Latitude': 43.310936, 'Longitude': -3.000576, 'No. of bikes': 16}]\n"
     ]
    }
   ],
   "source": [
    "station_list = []\n",
    "for station in stations:\n",
    "  val = {\n",
    "      'Station Name' : station['name'],\n",
    "      'Latitude' : station['latitude'],\n",
    "      'Longitude' : station['longitude'],\n",
    "      # 'No. of bikes': station['extra']['slots'] - station['empty_slots']\n",
    "      'No. of bikes': station['extra']['slots']\n",
    "  }\n",
    "\n",
    "  station_list.append(val)\n",
    "\n",
    "# station_list\n",
    "print(station_list)"
   ]
  },
  {
   "cell_type": "markdown",
   "metadata": {
    "id": "2_JpA6Vu5KNp"
   },
   "source": [
    "Put your parsed results into a DataFrame."
   ]
  },
  {
   "cell_type": "code",
   "execution_count": 25,
   "metadata": {
    "colab": {
     "base_uri": "https://localhost:8080/",
     "height": 175
    },
    "id": "PE8_NIBs5KNt",
    "outputId": "2bc44269-2647-4df4-933e-4ea464e38a1f",
    "tags": []
   },
   "outputs": [
    {
     "data": {
      "text/html": [
       "<div>\n",
       "<style scoped>\n",
       "    .dataframe tbody tr th:only-of-type {\n",
       "        vertical-align: middle;\n",
       "    }\n",
       "\n",
       "    .dataframe tbody tr th {\n",
       "        vertical-align: top;\n",
       "    }\n",
       "\n",
       "    .dataframe thead th {\n",
       "        text-align: right;\n",
       "    }\n",
       "</style>\n",
       "<table border=\"1\" class=\"dataframe\">\n",
       "  <thead>\n",
       "    <tr style=\"text-align: right;\">\n",
       "      <th></th>\n",
       "      <th>Station Name</th>\n",
       "      <th>Latitude</th>\n",
       "      <th>Longitude</th>\n",
       "      <th>No. of bikes</th>\n",
       "    </tr>\n",
       "  </thead>\n",
       "  <tbody>\n",
       "    <tr>\n",
       "      <th>0</th>\n",
       "      <td>GALINDO</td>\n",
       "      <td>43.306193</td>\n",
       "      <td>-3.008859</td>\n",
       "      <td>18</td>\n",
       "    </tr>\n",
       "    <tr>\n",
       "      <th>1</th>\n",
       "      <td>KASKO</td>\n",
       "      <td>43.309336</td>\n",
       "      <td>-3.008092</td>\n",
       "      <td>12</td>\n",
       "    </tr>\n",
       "    <tr>\n",
       "      <th>2</th>\n",
       "      <td>KUETO</td>\n",
       "      <td>43.307856</td>\n",
       "      <td>-3.000458</td>\n",
       "      <td>12</td>\n",
       "    </tr>\n",
       "    <tr>\n",
       "      <th>3</th>\n",
       "      <td>LABE GARAIA/ALTO HORNO</td>\n",
       "      <td>43.310936</td>\n",
       "      <td>-3.000576</td>\n",
       "      <td>16</td>\n",
       "    </tr>\n",
       "  </tbody>\n",
       "</table>\n",
       "</div>"
      ],
      "text/plain": [
       "             Station Name   Latitude  Longitude  No. of bikes\n",
       "0                 GALINDO  43.306193  -3.008859            18\n",
       "1                   KASKO  43.309336  -3.008092            12\n",
       "2                   KUETO  43.307856  -3.000458            12\n",
       "3  LABE GARAIA/ALTO HORNO  43.310936  -3.000576            16"
      ]
     },
     "execution_count": 25,
     "metadata": {},
     "output_type": "execute_result"
    }
   ],
   "source": [
    "#Putting the lists into a dataframe\n",
    "\n",
    "df = pd.DataFrame(station_list)\n",
    "\n",
    "df\n"
   ]
  },
  {
   "cell_type": "code",
   "execution_count": 26,
   "metadata": {
    "id": "hLGzyx12OMIP",
    "tags": []
   },
   "outputs": [],
   "source": [
    "#write stationlist to csv\n",
    "df.to_csv('station_info.csv', index=False)"
   ]
  },
  {
   "cell_type": "code",
   "execution_count": null,
   "metadata": {},
   "outputs": [],
   "source": []
  }
 ],
 "metadata": {
  "colab": {
   "provenance": []
  },
  "kernelspec": {
   "display_name": "Python 3 (ipykernel)",
   "language": "python",
   "name": "python3"
  },
  "language_info": {
   "codemirror_mode": {
    "name": "ipython",
    "version": 3
   },
   "file_extension": ".py",
   "mimetype": "text/x-python",
   "name": "python",
   "nbconvert_exporter": "python",
   "pygments_lexer": "ipython3",
   "version": "3.11.5"
  }
 },
 "nbformat": 4,
 "nbformat_minor": 4
}
