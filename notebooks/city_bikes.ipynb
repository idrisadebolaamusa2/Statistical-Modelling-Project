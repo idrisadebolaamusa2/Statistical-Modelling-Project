{
 "cells": [
  {
   "cell_type": "markdown",
   "metadata": {
    "id": "63Zl2-jw5KNd"
   },
   "source": [
    "# CityBikes"
   ]
  },
  {
   "cell_type": "markdown",
   "metadata": {
    "id": "QCm4eQjf5KNk"
   },
   "source": [
    "Send a request to CityBikes for the city of your choice."
   ]
  },
  {
   "cell_type": "code",
   "execution_count": 21,
   "metadata": {
    "id": "7TtF3aXr5KNm",
    "tags": []
   },
   "outputs": [],
   "source": [
    "#Importing libraries\n",
    "import requests\n",
    "import json\n",
    "import pandas as pd"
   ]
  },
  {
   "cell_type": "code",
   "execution_count": 22,
   "metadata": {
    "id": "JYKx5WOtBIxQ",
    "tags": []
   },
   "outputs": [],
   "source": [
    "def getCity(city):\n",
    "  #url data\n",
    "  url = \"https://api.citybik.es/v2/networks/\"\n",
    "\n",
    "  response = requests.get(url).json()\n",
    "\n",
    "  city_dict = []\n",
    "  for city_bike in response['networks']:\n",
    "    cty = city_bike['location']['city']\n",
    "    # print(cty)\n",
    "\n",
    "    if cty.lower() == city.lower():\n",
    "      city_dict.append(city_bike)\n",
    "\n",
    "  return city_dict"
   ]
  },
  {
   "cell_type": "code",
   "execution_count": null,
   "metadata": {
    "colab": {
     "base_uri": "https://localhost:8080/"
    },
    "id": "o3eEQiOeRaIQ",
    "outputId": "5da9b6ec-6b90-4be0-cb3e-bf3abd1bc7a0",
    "tags": []
   },
   "outputs": [],
   "source": [
    "def getStation(city):\n",
    "  station_dict = getCity(city)\n",
    "\n",
    "  # check if city exists\n",
    "  if not station_dict:\n",
    "    print(\"No bike company found for {}\".format(city))\n",
    "    return None\n",
    "\n",
    "  network_addr = station_dict[0]['href']\n",
    "  url = \"https://api.citybik.es/{}\".format(network_addr)\n",
    "  return requests.get(url).json()['network']['stations']\n",
    "\n",
    "city = \"sestao\"\n",
    "stations = getStation(city)\n",
    "\n",
    "print(len(stations))\n",
    "print(stations)"
   ]
  },
  {
   "cell_type": "markdown",
   "metadata": {
    "id": "HvXnfCSQ5KNo"
   },
   "source": [
    "Parse through the response to get the details you want for the bike stations in that city (latitude, longitude, number of bikes)."
   ]
  },
  {
   "cell_type": "code",
   "execution_count": null,
   "metadata": {
    "id": "q4dM26ui5KNp",
    "tags": []
   },
   "outputs": [],
   "source": [
    "station_list = []\n",
    "for station in stations:\n",
    "  val = {\n",
    "      'Station Name' : station['name'],\n",
    "      'Latitude' : station['latitude'],\n",
    "      'Longitude' : station['longitude'],\n",
    "      # 'No. of bikes': station['extra']['slots'] - station['empty_slots']\n",
    "      'No. of bikes': station['extra']['slots']\n",
    "  }\n",
    "\n",
    "  station_list.append(val)\n",
    "\n",
    "# station_list\n",
    "print(station_list)"
   ]
  },
  {
   "cell_type": "markdown",
   "metadata": {
    "id": "2_JpA6Vu5KNp"
   },
   "source": [
    "Put your parsed results into a DataFrame."
   ]
  },
  {
   "cell_type": "code",
   "execution_count": null,
   "metadata": {
    "colab": {
     "base_uri": "https://localhost:8080/",
     "height": 175
    },
    "id": "PE8_NIBs5KNt",
    "outputId": "2bc44269-2647-4df4-933e-4ea464e38a1f",
    "tags": []
   },
   "outputs": [],
   "source": [
    "#Putting the lists into a dataframe\n",
    "\n",
    "df = pd.DataFrame(station_list)\n",
    "\n",
    "df\n"
   ]
  },
  {
   "cell_type": "code",
   "execution_count": 26,
   "metadata": {
    "id": "hLGzyx12OMIP",
    "tags": []
   },
   "outputs": [],
   "source": [
    "#write stationlist to csv\n",
    "df.to_csv('station_info.csv', index=False)"
   ]
  },
  {
   "cell_type": "code",
   "execution_count": null,
   "metadata": {},
   "outputs": [],
   "source": []
  }
 ],
 "metadata": {
  "colab": {
   "provenance": []
  },
  "kernelspec": {
   "display_name": "Python 3 (ipykernel)",
   "language": "python",
   "name": "python3"
  },
  "language_info": {
   "codemirror_mode": {
    "name": "ipython",
    "version": 3
   },
   "file_extension": ".py",
   "mimetype": "text/x-python",
   "name": "python",
   "nbconvert_exporter": "python",
   "pygments_lexer": "ipython3",
   "version": "3.11.5"
  }
 },
 "nbformat": 4,
 "nbformat_minor": 4
}
