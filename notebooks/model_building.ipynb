{
 "cells": [
  {
   "cell_type": "markdown",
   "metadata": {
    "id": "liFlBxAKG1vC"
   },
   "source": [
    "Build a regression model."
   ]
  },
  {
   "cell_type": "code",
   "execution_count": 12,
   "metadata": {
    "id": "zPmh5Ml7fbtu",
    "tags": []
   },
   "outputs": [],
   "source": [
    "import pandas as pd\n",
    "import statsmodels.api as sm\n",
    "import numpy as np\n",
    "\n",
    "from sklearn import linear_model, datasets"
   ]
  },
  {
   "cell_type": "code",
   "execution_count": 13,
   "metadata": {
    "colab": {
     "base_uri": "https://localhost:8080/",
     "height": 345
    },
    "id": "VpV7j7CSfzu2",
    "outputId": "d13e9808-c033-4487-d09b-1909d61b9c04",
    "tags": []
   },
   "outputs": [
    {
     "data": {
      "text/html": [
       "<div>\n",
       "<style scoped>\n",
       "    .dataframe tbody tr th:only-of-type {\n",
       "        vertical-align: middle;\n",
       "    }\n",
       "\n",
       "    .dataframe tbody tr th {\n",
       "        vertical-align: top;\n",
       "    }\n",
       "\n",
       "    .dataframe thead th {\n",
       "        text-align: right;\n",
       "    }\n",
       "</style>\n",
       "<table border=\"1\" class=\"dataframe\">\n",
       "  <thead>\n",
       "    <tr style=\"text-align: right;\">\n",
       "      <th></th>\n",
       "      <th>Station Name</th>\n",
       "      <th>Latitude</th>\n",
       "      <th>Longitude</th>\n",
       "      <th>No. of bikes</th>\n",
       "      <th>Business Name</th>\n",
       "      <th>Business Address</th>\n",
       "      <th>Business Latitude</th>\n",
       "      <th>Business Longitude</th>\n",
       "      <th>Distance</th>\n",
       "      <th>Category</th>\n",
       "      <th>Review Count</th>\n",
       "      <th>Rating</th>\n",
       "    </tr>\n",
       "  </thead>\n",
       "  <tbody>\n",
       "    <tr>\n",
       "      <th>0</th>\n",
       "      <td>GALINDO</td>\n",
       "      <td>43.306193</td>\n",
       "      <td>-3.008859</td>\n",
       "      <td>18</td>\n",
       "      <td>Duplex</td>\n",
       "      <td>Calle Iparragirre, 1</td>\n",
       "      <td>43.307911</td>\n",
       "      <td>-3.007915</td>\n",
       "      <td>159.140086</td>\n",
       "      <td>restaurants</td>\n",
       "      <td>1</td>\n",
       "      <td>4.0</td>\n",
       "    </tr>\n",
       "    <tr>\n",
       "      <th>1</th>\n",
       "      <td>GALINDO</td>\n",
       "      <td>43.306193</td>\n",
       "      <td>-3.008859</td>\n",
       "      <td>18</td>\n",
       "      <td>Alameda</td>\n",
       "      <td>Calle Alameda las Llanas 17</td>\n",
       "      <td>43.309331</td>\n",
       "      <td>-3.008429</td>\n",
       "      <td>27.281843</td>\n",
       "      <td>bars</td>\n",
       "      <td>1</td>\n",
       "      <td>1.0</td>\n",
       "    </tr>\n",
       "    <tr>\n",
       "      <th>2</th>\n",
       "      <td>GALINDO</td>\n",
       "      <td>43.306193</td>\n",
       "      <td>-3.008859</td>\n",
       "      <td>18</td>\n",
       "      <td>Taberna la Venta del Casco</td>\n",
       "      <td>C/ Gran Vía, 3 Trasera, Plaza del Orfeón</td>\n",
       "      <td>43.307983</td>\n",
       "      <td>-2.996518</td>\n",
       "      <td>69.426699</td>\n",
       "      <td>nightlife</td>\n",
       "      <td>1</td>\n",
       "      <td>3.0</td>\n",
       "    </tr>\n",
       "    <tr>\n",
       "      <th>3</th>\n",
       "      <td>GALINDO</td>\n",
       "      <td>43.306193</td>\n",
       "      <td>-3.008859</td>\n",
       "      <td>18</td>\n",
       "      <td>Edur-Mendi</td>\n",
       "      <td>Gran Via Kalea, 3</td>\n",
       "      <td>43.309562</td>\n",
       "      <td>-3.006886</td>\n",
       "      <td>100.769346</td>\n",
       "      <td>restaurants</td>\n",
       "      <td>3</td>\n",
       "      <td>3.5</td>\n",
       "    </tr>\n",
       "    <tr>\n",
       "      <th>4</th>\n",
       "      <td>GALINDO</td>\n",
       "      <td>43.306193</td>\n",
       "      <td>-3.008859</td>\n",
       "      <td>18</td>\n",
       "      <td>Telepizza</td>\n",
       "      <td>Calle Villar y Villate 0</td>\n",
       "      <td>43.308707</td>\n",
       "      <td>-3.006989</td>\n",
       "      <td>113.385711</td>\n",
       "      <td>restaurants</td>\n",
       "      <td>3</td>\n",
       "      <td>3.5</td>\n",
       "    </tr>\n",
       "  </tbody>\n",
       "</table>\n",
       "</div>"
      ],
      "text/plain": [
       "  Station Name   Latitude  Longitude  No. of bikes  \\\n",
       "0      GALINDO  43.306193  -3.008859            18   \n",
       "1      GALINDO  43.306193  -3.008859            18   \n",
       "2      GALINDO  43.306193  -3.008859            18   \n",
       "3      GALINDO  43.306193  -3.008859            18   \n",
       "4      GALINDO  43.306193  -3.008859            18   \n",
       "\n",
       "                Business Name                          Business Address  \\\n",
       "0                      Duplex                      Calle Iparragirre, 1   \n",
       "1                     Alameda               Calle Alameda las Llanas 17   \n",
       "2  Taberna la Venta del Casco  C/ Gran Vía, 3 Trasera, Plaza del Orfeón   \n",
       "3                  Edur-Mendi                         Gran Via Kalea, 3   \n",
       "4                   Telepizza                  Calle Villar y Villate 0   \n",
       "\n",
       "   Business Latitude  Business Longitude    Distance     Category  \\\n",
       "0          43.307911           -3.007915  159.140086  restaurants   \n",
       "1          43.309331           -3.008429   27.281843         bars   \n",
       "2          43.307983           -2.996518   69.426699    nightlife   \n",
       "3          43.309562           -3.006886  100.769346  restaurants   \n",
       "4          43.308707           -3.006989  113.385711  restaurants   \n",
       "\n",
       "   Review Count  Rating  \n",
       "0             1     4.0  \n",
       "1             1     1.0  \n",
       "2             1     3.0  \n",
       "3             3     3.5  \n",
       "4             3     3.5  "
      ]
     },
     "execution_count": 13,
     "metadata": {},
     "output_type": "execute_result"
    }
   ],
   "source": [
    "df  = pd.read_csv('merged_df.csv')\n",
    "df.head()"
   ]
  },
  {
   "cell_type": "code",
   "execution_count": 14,
   "metadata": {
    "colab": {
     "base_uri": "https://localhost:8080/",
     "height": 206
    },
    "id": "4WEs4NWlpmgA",
    "outputId": "701df1d7-8364-4b9a-f456-c7d3e6af7ad3",
    "tags": []
   },
   "outputs": [
    {
     "data": {
      "text/html": [
       "<div>\n",
       "<style scoped>\n",
       "    .dataframe tbody tr th:only-of-type {\n",
       "        vertical-align: middle;\n",
       "    }\n",
       "\n",
       "    .dataframe tbody tr th {\n",
       "        vertical-align: top;\n",
       "    }\n",
       "\n",
       "    .dataframe thead th {\n",
       "        text-align: right;\n",
       "    }\n",
       "</style>\n",
       "<table border=\"1\" class=\"dataframe\">\n",
       "  <thead>\n",
       "    <tr style=\"text-align: right;\">\n",
       "      <th></th>\n",
       "      <th>Latitude</th>\n",
       "      <th>Longitude</th>\n",
       "      <th>No. of bikes</th>\n",
       "      <th>Business Latitude</th>\n",
       "      <th>Business Longitude</th>\n",
       "      <th>Distance</th>\n",
       "      <th>Review Count</th>\n",
       "      <th>Rating</th>\n",
       "    </tr>\n",
       "  </thead>\n",
       "  <tbody>\n",
       "    <tr>\n",
       "      <th>0</th>\n",
       "      <td>43.306193</td>\n",
       "      <td>-3.008859</td>\n",
       "      <td>18</td>\n",
       "      <td>43.307911</td>\n",
       "      <td>-3.007915</td>\n",
       "      <td>159.140086</td>\n",
       "      <td>1</td>\n",
       "      <td>4.0</td>\n",
       "    </tr>\n",
       "    <tr>\n",
       "      <th>1</th>\n",
       "      <td>43.306193</td>\n",
       "      <td>-3.008859</td>\n",
       "      <td>18</td>\n",
       "      <td>43.309331</td>\n",
       "      <td>-3.008429</td>\n",
       "      <td>27.281843</td>\n",
       "      <td>1</td>\n",
       "      <td>1.0</td>\n",
       "    </tr>\n",
       "    <tr>\n",
       "      <th>2</th>\n",
       "      <td>43.306193</td>\n",
       "      <td>-3.008859</td>\n",
       "      <td>18</td>\n",
       "      <td>43.307983</td>\n",
       "      <td>-2.996518</td>\n",
       "      <td>69.426699</td>\n",
       "      <td>1</td>\n",
       "      <td>3.0</td>\n",
       "    </tr>\n",
       "    <tr>\n",
       "      <th>3</th>\n",
       "      <td>43.306193</td>\n",
       "      <td>-3.008859</td>\n",
       "      <td>18</td>\n",
       "      <td>43.309562</td>\n",
       "      <td>-3.006886</td>\n",
       "      <td>100.769346</td>\n",
       "      <td>3</td>\n",
       "      <td>3.5</td>\n",
       "    </tr>\n",
       "    <tr>\n",
       "      <th>4</th>\n",
       "      <td>43.306193</td>\n",
       "      <td>-3.008859</td>\n",
       "      <td>18</td>\n",
       "      <td>43.308707</td>\n",
       "      <td>-3.006989</td>\n",
       "      <td>113.385711</td>\n",
       "      <td>3</td>\n",
       "      <td>3.5</td>\n",
       "    </tr>\n",
       "  </tbody>\n",
       "</table>\n",
       "</div>"
      ],
      "text/plain": [
       "    Latitude  Longitude  No. of bikes  Business Latitude  Business Longitude  \\\n",
       "0  43.306193  -3.008859            18          43.307911           -3.007915   \n",
       "1  43.306193  -3.008859            18          43.309331           -3.008429   \n",
       "2  43.306193  -3.008859            18          43.307983           -2.996518   \n",
       "3  43.306193  -3.008859            18          43.309562           -3.006886   \n",
       "4  43.306193  -3.008859            18          43.308707           -3.006989   \n",
       "\n",
       "     Distance  Review Count  Rating  \n",
       "0  159.140086             1     4.0  \n",
       "1   27.281843             1     1.0  \n",
       "2   69.426699             1     3.0  \n",
       "3  100.769346             3     3.5  \n",
       "4  113.385711             3     3.5  "
      ]
     },
     "execution_count": 14,
     "metadata": {},
     "output_type": "execute_result"
    }
   ],
   "source": [
    "#dropping columns that won't be needed for training\n",
    "df = df.drop(['Station Name', 'Business Name', 'Business Address', 'Category'], axis=1)\n",
    "df.head()"
   ]
  },
  {
   "cell_type": "code",
   "execution_count": 15,
   "metadata": {
    "id": "UkKhZ8YUG1vP",
    "tags": []
   },
   "outputs": [],
   "source": [
    "x = df.drop(\"No. of bikes\" , axis=1)\n",
    "y = df.pop(\"No. of bikes\")"
   ]
  },
  {
   "cell_type": "code",
   "execution_count": 16,
   "metadata": {
    "colab": {
     "base_uri": "https://localhost:8080/",
     "height": 206
    },
    "id": "cc7rrN7KnnHK",
    "outputId": "36c80efe-5a0d-4c36-aaec-ac76d4f59839",
    "tags": []
   },
   "outputs": [
    {
     "data": {
      "text/html": [
       "<div>\n",
       "<style scoped>\n",
       "    .dataframe tbody tr th:only-of-type {\n",
       "        vertical-align: middle;\n",
       "    }\n",
       "\n",
       "    .dataframe tbody tr th {\n",
       "        vertical-align: top;\n",
       "    }\n",
       "\n",
       "    .dataframe thead th {\n",
       "        text-align: right;\n",
       "    }\n",
       "</style>\n",
       "<table border=\"1\" class=\"dataframe\">\n",
       "  <thead>\n",
       "    <tr style=\"text-align: right;\">\n",
       "      <th></th>\n",
       "      <th>Latitude</th>\n",
       "      <th>Longitude</th>\n",
       "      <th>Business Latitude</th>\n",
       "      <th>Business Longitude</th>\n",
       "      <th>Distance</th>\n",
       "      <th>Review Count</th>\n",
       "      <th>Rating</th>\n",
       "    </tr>\n",
       "  </thead>\n",
       "  <tbody>\n",
       "    <tr>\n",
       "      <th>0</th>\n",
       "      <td>43.306193</td>\n",
       "      <td>-3.008859</td>\n",
       "      <td>43.307911</td>\n",
       "      <td>-3.007915</td>\n",
       "      <td>159.140086</td>\n",
       "      <td>1</td>\n",
       "      <td>4.0</td>\n",
       "    </tr>\n",
       "    <tr>\n",
       "      <th>1</th>\n",
       "      <td>43.306193</td>\n",
       "      <td>-3.008859</td>\n",
       "      <td>43.309331</td>\n",
       "      <td>-3.008429</td>\n",
       "      <td>27.281843</td>\n",
       "      <td>1</td>\n",
       "      <td>1.0</td>\n",
       "    </tr>\n",
       "    <tr>\n",
       "      <th>2</th>\n",
       "      <td>43.306193</td>\n",
       "      <td>-3.008859</td>\n",
       "      <td>43.307983</td>\n",
       "      <td>-2.996518</td>\n",
       "      <td>69.426699</td>\n",
       "      <td>1</td>\n",
       "      <td>3.0</td>\n",
       "    </tr>\n",
       "    <tr>\n",
       "      <th>3</th>\n",
       "      <td>43.306193</td>\n",
       "      <td>-3.008859</td>\n",
       "      <td>43.309562</td>\n",
       "      <td>-3.006886</td>\n",
       "      <td>100.769346</td>\n",
       "      <td>3</td>\n",
       "      <td>3.5</td>\n",
       "    </tr>\n",
       "    <tr>\n",
       "      <th>4</th>\n",
       "      <td>43.306193</td>\n",
       "      <td>-3.008859</td>\n",
       "      <td>43.308707</td>\n",
       "      <td>-3.006989</td>\n",
       "      <td>113.385711</td>\n",
       "      <td>3</td>\n",
       "      <td>3.5</td>\n",
       "    </tr>\n",
       "  </tbody>\n",
       "</table>\n",
       "</div>"
      ],
      "text/plain": [
       "    Latitude  Longitude  Business Latitude  Business Longitude    Distance  \\\n",
       "0  43.306193  -3.008859          43.307911           -3.007915  159.140086   \n",
       "1  43.306193  -3.008859          43.309331           -3.008429   27.281843   \n",
       "2  43.306193  -3.008859          43.307983           -2.996518   69.426699   \n",
       "3  43.306193  -3.008859          43.309562           -3.006886  100.769346   \n",
       "4  43.306193  -3.008859          43.308707           -3.006989  113.385711   \n",
       "\n",
       "   Review Count  Rating  \n",
       "0             1     4.0  \n",
       "1             1     1.0  \n",
       "2             1     3.0  \n",
       "3             3     3.5  \n",
       "4             3     3.5  "
      ]
     },
     "execution_count": 16,
     "metadata": {},
     "output_type": "execute_result"
    }
   ],
   "source": [
    "x.head()"
   ]
  },
  {
   "cell_type": "code",
   "execution_count": 17,
   "metadata": {
    "colab": {
     "base_uri": "https://localhost:8080/"
    },
    "id": "NYq7bzvKntKg",
    "outputId": "e4806a90-146a-4767-91af-72027e97d82c",
    "tags": []
   },
   "outputs": [
    {
     "data": {
      "text/plain": [
       "0    18\n",
       "1    18\n",
       "2    18\n",
       "3    18\n",
       "4    18\n",
       "Name: No. of bikes, dtype: int64"
      ]
     },
     "execution_count": 17,
     "metadata": {},
     "output_type": "execute_result"
    }
   ],
   "source": [
    "y.head()"
   ]
  },
  {
   "cell_type": "code",
   "execution_count": 18,
   "metadata": {
    "id": "1wipne3en58Q",
    "tags": []
   },
   "outputs": [],
   "source": [
    "# adding a constant\n",
    "x = sm.add_constant(x)\n",
    "lin_reg = sm.OLS(y,x)"
   ]
  },
  {
   "cell_type": "code",
   "execution_count": 19,
   "metadata": {
    "id": "k7Thmu_8q-aB",
    "tags": []
   },
   "outputs": [],
   "source": [
    "#building the model\n",
    "model = lin_reg.fit()"
   ]
  },
  {
   "cell_type": "markdown",
   "metadata": {
    "id": "lZ-iZSZ6G1vR"
   },
   "source": [
    "Provide model output and an interpretation of the results."
   ]
  },
  {
   "cell_type": "code",
   "execution_count": 21,
   "metadata": {
    "colab": {
     "base_uri": "https://localhost:8080/"
    },
    "id": "rS0JKeSbG1vS",
    "outputId": "39c48ba8-910c-474c-d885-581a0422f979",
    "tags": []
   },
   "outputs": [
    {
     "name": "stdout",
     "output_type": "stream",
     "text": [
      "                            OLS Regression Results                            \n",
      "==============================================================================\n",
      "Dep. Variable:           No. of bikes   R-squared:                       0.091\n",
      "Model:                            OLS   Adj. R-squared:                  0.015\n",
      "Method:                 Least Squares   F-statistic:                     1.200\n",
      "Date:                Mon, 11 Dec 2023   Prob (F-statistic):              0.312\n",
      "Time:                        01:17:42   Log-Likelihood:                -214.00\n",
      "No. Observations:                  92   AIC:                             444.0\n",
      "Df Residuals:                      84   BIC:                             464.2\n",
      "Df Model:                           7                                         \n",
      "Covariance Type:            nonrobust                                         \n",
      "======================================================================================\n",
      "                         coef    std err          t      P>|t|      [0.025      0.975]\n",
      "--------------------------------------------------------------------------------------\n",
      "const               1.182e+04   9334.332      1.266      0.209   -6744.902    3.04e+04\n",
      "Latitude            -279.7015    177.628     -1.575      0.119    -632.935      73.532\n",
      "Longitude           -103.3562     78.232     -1.321      0.190    -258.929      52.216\n",
      "Business Latitude  -3.395e-10    119.568  -2.84e-12      1.000    -237.774     237.774\n",
      "Business Longitude  -1.96e-10     69.204  -2.83e-12      1.000    -137.620     137.620\n",
      "Distance           -3.436e-14      0.001  -2.57e-11      1.000      -0.003       0.003\n",
      "Review Count        7.783e-13      0.313   2.49e-12      1.000      -0.623       0.623\n",
      "Rating             -1.022e-12      0.283  -3.61e-12      1.000      -0.563       0.563\n",
      "==============================================================================\n",
      "Omnibus:                      800.942   Durbin-Watson:                   0.087\n",
      "Prob(Omnibus):                  0.000   Jarque-Bera (JB):               15.118\n",
      "Skew:                          -0.007   Prob(JB):                     0.000521\n",
      "Kurtosis:                       1.014   Cond. No.                     1.16e+07\n",
      "==============================================================================\n",
      "\n",
      "Notes:\n",
      "[1] Standard Errors assume that the covariance matrix of the errors is correctly specified.\n",
      "[2] The condition number is large, 1.16e+07. This might indicate that there are\n",
      "strong multicollinearity or other numerical problems.\n"
     ]
    }
   ],
   "source": [
    "print_model = model.summary()\n",
    "print(print_model)"
   ]
  },
  {
   "cell_type": "code",
   "execution_count": null,
   "metadata": {},
   "outputs": [],
   "source": [
    "# Model Summary:\n",
    "# •\tDependent Variable (Dep. Variable): No. of bikes\n",
    "# •\tR-squared (R²): 0.091\n",
    "# o\tThe R-squared value indicates the proportion of the variance in the dependent variable (No. of bikes) that is predictable from the independent variables.\n",
    "# o\tIn this case, approximately 9.1% of the variance in the number of bikes is explained by the independent variables.\n",
    "# •\tAdjusted R-squared (Adj. R²): 0.015\n",
    "# o\tAdjusted R-squared considers the number of predictors in the model, providing a more reliable measure when there are multiple predictors. It penalizes the inclusion of irrelevant variables.\n",
    "# •\tF-statistic (F-statistic): 1.200\n",
    "# o\tThe F-statistic is a measure of how well the entire model explains the variability in the dependent variable.\n",
    "# o\tA higher F-statistic suggests a better fit. Here, it's relatively low.\n",
    "# •\tProb (F-statistic): 0.312\n",
    "# o\tThis is the p-value associated with the F-statistic. A low p-value indicates that the overall regression model is statistically significant. Here, the value is 0.312, suggesting that the model is not statistically significant.\n",
    "# Coefficients Table:\n",
    "# •\tConst (Constant): 1.182e+04 (11,820)\n",
    "# o\tThe constant term in the regression equation when all independent variables are zero.\n",
    "# •\tCoefficients for Independent Variables (e.g., Latitude, Longitude, etc.):\n",
    "# o\tEach coefficient represents the change in the dependent variable for a one-unit change in the corresponding independent variable, holding other variables constant.\n",
    "# •\tP>|t| (p-value):\n",
    "# o\tThe p-value associated with each coefficient. It tests the null hypothesis that the corresponding coefficient is equal to zero (no effect).\n",
    "# o\tA low p-value (typically less than 0.05) indicates that the variable is statistically significant.\n",
    "# Additional Information:\n",
    "# •\tOmnibus: A test of the normality of residuals. A low p-value suggests that the residuals are not normally distributed.\n",
    "# •\tDurbin-Watson: A test for autocorrelation of residuals. Values close to 2 suggest no autocorrelation.\n",
    "# •\tJarque-Bera (JB): Another test for normality. A low p-value suggests non-normality.\n",
    "# •\tSkewness (Skew): A measure of the asymmetry of the residuals.\n",
    "# •\tKurtosis: A measure of the \"tailedness\" of the residuals.\n",
    "# •\tCond. No. (Condition Number): A measure of multicollinearity. Values greater than 20 may indicate a problematic amount of collinearity.\n",
    "# Interpretation:\n",
    "# •\tThe R-squared is relatively low (9.1%), indicating that the model explains a small portion of the variability in the number of bikes.\n",
    "# •\tThe p-values associated with coefficients should be checked to determine which variables are statistically significant."
   ]
  },
  {
   "cell_type": "markdown",
   "metadata": {
    "id": "N2uG5G6QG1vT"
   },
   "source": [
    "# Stretch"
   ]
  },
  {
   "cell_type": "markdown",
   "metadata": {
    "id": "BvGteNsAG1vU"
   },
   "source": [
    "How can you turn the regression model into a classification model?"
   ]
  },
  {
   "cell_type": "code",
   "execution_count": null,
   "metadata": {
    "id": "Vc2QQUOsG1vV"
   },
   "outputs": [],
   "source": [
    "# To turn a regression model into a classification model, one needs to define a threshold or cutoff point, and then predict whether the outcome falls above or below that threshold. This usually involves converting the continuous output of the regression model into discrete categories. Here's a general step-by-step approach:\n",
    "# 1.\tDefine Categories:\n",
    "# o\tDecide on the categories you want to predict. For example, you might want to predict whether the number of bikes is \"High\" or \"Low.\"\n",
    "# 2.\tChoose a Threshold:\n",
    "# o\tDetermine a threshold value that separates the categories. This could be based on domain knowledge, business requirements, or a statistical criterion.\n",
    "# 3.\tCreate Binary Outcome:\n",
    "# o\tCreate a new binary outcome variable based on whether the predicted value from the regression model is above or below the chosen threshold.\n",
    "# o\tExample: If predicted value > Threshold, assign category \"High,\" else assign category \"Low.\"\n",
    "# 4.\tTrain a Classification Model:\n",
    "# o\tUse the binary outcome as the dependent variable and the same set of independent variables from the regression model.\n",
    "# o\tChoose a suitable classification algorithm (e.g., logistic regression, decision tree, random forest) and train the model on the binary outcome.\n",
    "# 5.\tEvaluate the Classification Model:\n",
    "# o\tAssess the performance of the classification model using standard classification metrics (accuracy, precision, recall, F1-score, etc.).\n",
    "# o\tSplit your data into training and testing sets to evaluate the model on unseen data.\n",
    "\n",
    "# To be more specific for our data set, we can do the following;\n",
    "import numpy as np\n",
    "import pandas as pd\n",
    "from sklearn.model_selection import train_test_split\n",
    "from sklearn.linear_model import LogisticRegression\n",
    "from sklearn.metrics import accuracy_score, classification_report\n",
    "# Assuming df is the DataFrame with the regression results\n",
    "# Let's say I want to predict if the number of bikes is \"High\" (1) or \"Low\" (0)\n",
    "threshold = 12000  # Choose an appropriate threshold\n",
    "# Create a binary outcome variable\n",
    "df['BikeCategory'] = np.where(df['PredictedNumberofBikes'] > threshold, 1, 0)\n",
    "# Define features (independent variables) and target (dependent variable)\n",
    "X = df[['Latitude', 'Longitude', 'Distance', 'Review Count', 'Rating']]\n",
    "y = df['BikeCategory']\n",
    "# Split data into training and testing sets\n",
    "X_train, X_test, y_train, y_test = train_test_split(X, y, test_size=0.2, random_state=42)\n",
    "# Train a logistic regression model (one can choose another classification algorithm)\n",
    "model = LogisticRegression()\n",
    "model.fit(X_train, y_train)\n",
    "# Predict on the test set\n",
    "y_pred = model.predict(X_test)\n",
    "# Evaluate the model\n",
    "accuracy = accuracy_score(y_test, y_pred)\n",
    "classification_rep = classification_report(y_test, y_pred)\n",
    "print(f\"Accuracy: {accuracy}\")\n",
    "print(\"Classification Report:\\n\", classification_rep)"
   ]
  }
 ],
 "metadata": {
  "colab": {
   "provenance": []
  },
  "kernelspec": {
   "display_name": "Python 3 (ipykernel)",
   "language": "python",
   "name": "python3"
  },
  "language_info": {
   "codemirror_mode": {
    "name": "ipython",
    "version": 3
   },
   "file_extension": ".py",
   "mimetype": "text/x-python",
   "name": "python",
   "nbconvert_exporter": "python",
   "pygments_lexer": "ipython3",
   "version": "3.11.5"
  }
 },
 "nbformat": 4,
 "nbformat_minor": 4
}
